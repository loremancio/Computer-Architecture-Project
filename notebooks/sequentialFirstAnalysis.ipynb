{
 "cells": [
  {
   "cell_type": "code",
   "execution_count": 1,
   "metadata": {},
   "outputs": [],
   "source": [
    "import os\n",
    "import numpy as np\n",
    "import matplotlib.pyplot as plt\n",
    "import pandas as pd"
   ]
  },
  {
   "cell_type": "code",
   "execution_count": 2,
   "metadata": {},
   "outputs": [],
   "source": [
    "def generate_report(directory):\n",
    "\n",
    "    #print(\"Generating report for: \", directory)\n",
    "    os.system(\"AMDuProfCLI report -i \" + directory + \" > /dev/null\")\n"
   ]
  },
  {
   "cell_type": "code",
   "execution_count": 3,
   "metadata": {},
   "outputs": [],
   "source": [
    "def plot_with_confidence_interval(x_values, y_mean, conf, color, marker, y_label, title, save_path):\n",
    "    # sorting delle ascisse e delle ordinate\n",
    "    \n",
    "\n",
    "    \n",
    "    # Genera il grafico con l'intervallo di confidenza\n",
    "    # Genera il grafico con l'intervallo di confidenza\n",
    "    fig, ax = plt.subplots(figsize=(10, 6))\n",
    "    ax.errorbar(x_values, y_mean, yerr=conf, color=color, marker=marker, label=y_label)\n",
    "    ax.set_xlabel('Dimensione dell\\'array (Esponente della potenza di due)')\n",
    "    ax.set_ylabel(y_label, color=color)\n",
    "    ax.set_title(title)\n",
    "    plt.tight_layout()\n",
    "    # plt.savefig(save_path)\n",
    "    plt.show()\n",
    "\n",
    "    \n",
    "def plot_with_confidence_interval_log(x_values, y_mean, conf, color, marker, y_label, title, save_path):\n",
    "    \n",
    "    # Genera il grafico con l'intervallo di confidenza\n",
    "    fig, ax = plt.subplots(figsize=(10, 6))\n",
    "    ax.errorbar(x_values, y_mean, yerr=conf, color=color, marker=marker, label=y_label)\n",
    "    ax.set_xlabel('Dimensione dell\\'array (Esponente della potenza di due)')\n",
    "    ax.set_ylabel(y_label, color=color)\n",
    "    ax.set_title(title)\n",
    "    ax.set_xscale('log', base=2)\n",
    "    plt.tight_layout()\n",
    "    # plt.savefig(save_path)\n",
    "    plt.show()\n",
    "    \n",
    "\n",
    "# Funzione per leggere i dati e calcolare le statistiche\n",
    "def read_data_and_calculate_statistics(directory):\n",
    "    elapsed_times = []\n",
    "\n",
    "\n",
    "    for dir in os.listdir(directory):\n",
    "        #print(\"dirint: \", dir)\n",
    "        #print(os.listdir(directory + \"/\" + dir))\n",
    "        if 'report.csv' not in os.listdir(directory + \"/\" + dir):\n",
    "            generate_report(os.path.join(directory, dir))\n",
    "\n",
    "        \n",
    "        #print(os.path.join(directory, dir, 'report.csv'))\n",
    "        with open(os.path.join(directory, dir, 'report.csv')) as f:\n",
    "            df = f.readlines()\n",
    "\n",
    "            elapsed_time = float(df[44].split(',')[1].replace('\"', '').split(' ')[0])*1000\n",
    "            elapsed_times.append(elapsed_time)\n",
    "\n",
    "            \n",
    "            \n",
    "\n",
    "    mean_elapsed_times = np.mean(elapsed_times)\n",
    "\n",
    "    #calcolo intervallo di confidenza\n",
    "    ci = 1.96 * np.std(elapsed_times) / np.sqrt(len(elapsed_times))\n",
    "\n",
    "   \n",
    "\n",
    "    return mean_elapsed_times, ci\n",
    "            \n",
    "            \n",
    "\n",
    "    \n",
    "\n",
    "        \n",
    "            "
   ]
  },
  {
   "cell_type": "code",
   "execution_count": 4,
   "metadata": {},
   "outputs": [
    {
     "ename": "FileNotFoundError",
     "evalue": "[Errno 2] No such file or directory: '/home/enrico/Documents/UNI/CA-lab/Computer-Architecture-Project/results/seq'",
     "output_type": "error",
     "traceback": [
      "\u001b[0;31m---------------------------------------------------------------------------\u001b[0m",
      "\u001b[0;31mFileNotFoundError\u001b[0m                         Traceback (most recent call last)",
      "Cell \u001b[0;32mIn[4], line 14\u001b[0m\n\u001b[1;32m     11\u001b[0m cis \u001b[38;5;241m=\u001b[39m []\n\u001b[1;32m     12\u001b[0m sizes \u001b[38;5;241m=\u001b[39m []\n\u001b[0;32m---> 14\u001b[0m list_of_dirs \u001b[38;5;241m=\u001b[39m \u001b[43mos\u001b[49m\u001b[38;5;241;43m.\u001b[39;49m\u001b[43mlistdir\u001b[49m\u001b[43m(\u001b[49m\u001b[43mpath\u001b[49m\u001b[43m)\u001b[49m\n\u001b[1;32m     15\u001b[0m \u001b[38;5;66;03m#ordino le directory per nome\u001b[39;00m\n\u001b[1;32m     16\u001b[0m list_of_dirs\u001b[38;5;241m.\u001b[39msort()\n",
      "\u001b[0;31mFileNotFoundError\u001b[0m: [Errno 2] No such file or directory: '/home/enrico/Documents/UNI/CA-lab/Computer-Architecture-Project/results/seq'"
     ]
    }
   ],
   "source": [
    "\n",
    "# Utilizzo della funzione per calcolare statistiche e generare il grafico\n",
    "# Imposta i valori necessari per il percorso, le ripetizioni e il numero di configurazioni\n",
    "path = os.getcwd()\n",
    "\n",
    "#print(path)\n",
    "path = os.path.join(path, \"results\", \"seq\")\n",
    "#print(path)\n",
    "\n",
    "# Leggi i dati e calcola le statistiche\n",
    "mean_elapsed_times = []\n",
    "cis = []\n",
    "sizes = []\n",
    "\n",
    "list_of_dirs = os.listdir(path)\n",
    "#ordino le directory per nome\n",
    "list_of_dirs.sort()\n",
    "\n",
    "\n",
    "\n",
    "for dirs in list_of_dirs:\n",
    "    #print(\"directory: \", dirs)\n",
    "    try:\n",
    "        size = int(dirs)\n",
    "        \n",
    "        #print(os.path.join(path, dirs))\n",
    "        mean_elapsed_time, ci = read_data_and_calculate_statistics(os.path.join(path, dirs))\n",
    "        sizes.append(size)\n",
    "        mean_elapsed_times.append(mean_elapsed_time)\n",
    "        cis.append(ci)\n",
    "    except ValueError:\n",
    "        continue\n",
    "\n",
    "#sort dei dati\n",
    "\n",
    "\n",
    "\n",
    "# Genera il grafico\n",
    "plot_with_confidence_interval(sizes, mean_elapsed_times, cis, 'blue', 'o', 'Elapsed time (ms)', 'Elapsed time vs Array size', 'elapsed_time_vs_array_size.png')\n",
    "\n",
    "#plot the first 5 elements\n",
    "plot_with_confidence_interval(sizes[:5], mean_elapsed_times[:5], cis[:5], 'blue', 'o', 'Elapsed time (ms)', 'Elapsed time vs Array size', 'elapsed_time_vs_array_size.png')\n",
    "\n",
    "#plot log\n"
   ]
  },
  {
   "cell_type": "code",
   "execution_count": null,
   "metadata": {},
   "outputs": [],
   "source": []
  },
  {
   "cell_type": "code",
   "execution_count": null,
   "metadata": {},
   "outputs": [],
   "source": [
    "\n"
   ]
  }
 ],
 "metadata": {
  "kernelspec": {
   "display_name": "base",
   "language": "python",
   "name": "python3"
  },
  "language_info": {
   "codemirror_mode": {
    "name": "ipython",
    "version": 3
   },
   "file_extension": ".py",
   "mimetype": "text/x-python",
   "name": "python",
   "nbconvert_exporter": "python",
   "pygments_lexer": "ipython3",
   "version": "3.11.8"
  }
 },
 "nbformat": 4,
 "nbformat_minor": 2
}
