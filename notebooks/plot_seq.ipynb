{
 "cells": [
  {
   "cell_type": "code",
   "execution_count": 4,
   "metadata": {},
   "outputs": [],
   "source": [
    "import os\n",
    "import numpy as np\n",
    "import matplotlib.pyplot as plt\n",
    "import pandas as pd"
   ]
  },
  {
   "cell_type": "code",
   "execution_count": 45,
   "metadata": {},
   "outputs": [],
   "source": [
    "def plot_with_confidence_interval(x_values, y_mean, color, marker, y_label, title, save_path):\n",
    "    # Calcola l'intervallo di confidenza\n",
    "    ci = 1.96 * np.std(y_mean) / np.sqrt(len(y_mean))\n",
    "    \n",
    "    # Genera il grafico con l'intervallo di confidenza\n",
    "    fig, ax = plt.subplots(figsize=(10, 6))\n",
    "    ax.errorbar(x_values, y_mean, yerr=ci, color=color, marker=marker, label=y_label)\n",
    "    ax.set_xlabel('Dimensione dell\\'array (Esponente della potenza di due)')\n",
    "    ax.set_ylabel(y_label, color=color)\n",
    "    ax.set_title(title)\n",
    "    plt.tight_layout()\n",
    "    plt.savefig(save_path)\n",
    "    plt.show()\n",
    "\n",
    "# Funzione per leggere i dati e calcolare le statistiche\n",
    "def read_data_and_calculate_statistics(directory):\n",
    "    # Inizializza le liste per memorizzare i dati\n",
    "    elapsed_times = []\n",
    "\n",
    "    \n",
    "    print(\"directory: \", directory)\n",
    "    # Percorri tutte le sottocartelle\n",
    "    #size = int(directory)  # La dimensione dell'array è rappresentata dall'esponente della potenza di due\n",
    "    print(\"listdir: \", os.listdir(directory))\n",
    "    for dir in os.listdir(directory):\n",
    "        print(\"dirint: \", dir)\n",
    "        for root, dirs, files in os.walk(os.path.join(directory, dir)):\n",
    "            print(\"root: \", root)\n",
    "            print(\"dirs: \", dirs)\n",
    "            print(\"files: \", files)\n",
    "        try:\n",
    "            # Costruisci il percorso completo del file CSV\n",
    "            file_path = os.path.join(path, directory, \"report.csv\")\n",
    "            \n",
    "            # Leggi il file CSV\n",
    "            with open(file_path, 'r') as f:\n",
    "                lines = f.readlines()\n",
    "            \n",
    "            # Estrai l'Elapsed time\n",
    "            elapsed_time = None\n",
    "            for line in lines:\n",
    "                if line.startswith(\"Elapsed Time\"):\n",
    "                    elapsed_time = float(line.split(\",\")[1].strip().split(\" \")[0])\n",
    "                    break\n",
    "            \n",
    "            if elapsed_time is not None:\n",
    "                elapsed_times.append(elapsed_time)\n",
    "        except ValueError:\n",
    "            pass\n",
    "\n",
    "    # Calcola la media dei tempi elapsed_times\n",
    "    mean_elapsed_time = np.mean(elapsed_times)\n",
    "    \n",
    "    # Calcola l'intervallo di confidenza\n",
    "    ci = 1.96 * np.std(elapsed_times) / np.sqrt(len(elapsed_times))\n",
    "    \n",
    "    return mean_elapsed_time, ci\n",
    "\n"
   ]
  },
  {
   "cell_type": "code",
   "execution_count": 47,
   "metadata": {},
   "outputs": [
    {
     "name": "stdout",
     "output_type": "stream",
     "text": [
      "directory:  /home/enrico/Documents/UNI/CA lab/Computer-Architecture-Project/results/seq/16\n",
      "listdir:  ['AMDuProf-seq-TBP_Apr-05-2024_16-23-40', 'AMDuProf-seq-TBP_Apr-05-2024_16-23-28', 'AMDuProf-seq-TBP_Apr-05-2024_16-23-23', 'AMDuProf-seq-TBP_Apr-05-2024_16-23-26', 'AMDuProf-seq-TBP_Apr-05-2024_16-23-32', 'AMDuProf-seq-TBP_Apr-05-2024_16-23-27', 'AMDuProf-seq-TBP_Apr-05-2024_16-23-29', 'AMDuProf-seq-TBP_Apr-05-2024_16-23-24', 'AMDuProf-seq-TBP_Apr-05-2024_16-23-36', 'AMDuProf-seq-TBP_Apr-05-2024_16-23-25', 'AMDuProf-seq-TBP_Apr-05-2024_16-23-43', 'AMDuProf-seq-TBP_Apr-05-2024_16-23-41', 'AMDuProf-seq-TBP_Apr-05-2024_16-23-22', 'AMDuProf-seq-TBP_Apr-05-2024_16-23-44', 'AMDuProf-seq-TBP_Apr-05-2024_16-23-30', 'AMDuProf-seq-TBP_Apr-05-2024_16-23-38', 'AMDuProf-seq-TBP_Apr-05-2024_16-23-34', 'AMDuProf-seq-TBP_Apr-05-2024_16-23-33', 'AMDuProf-seq-TBP_Apr-05-2024_16-23-37', 'AMDuProf-seq-TBP_Apr-05-2024_16-23-31', 'AMDuProf-seq-TBP_Apr-05-2024_16-23-42', 'AMDuProf-seq-TBP_Apr-05-2024_16-23-39', 'AMDuProf-seq-TBP_Apr-05-2024_16-23-35']\n",
      "dirint:  AMDuProf-seq-TBP_Apr-05-2024_16-23-40\n",
      "root:  /home/enrico/Documents/UNI/CA lab/Computer-Architecture-Project/results/seq/16/AMDuProf-seq-TBP_Apr-05-2024_16-23-40\n",
      "dirs:  ['cpu']\n",
      "files:  ['session.uprof']\n",
      "root:  /home/enrico/Documents/UNI/CA lab/Computer-Architecture-Project/results/seq/16/AMDuProf-seq-TBP_Apr-05-2024_16-23-40/cpu\n",
      "dirs:  []\n",
      "files:  ['CpuProfile_Apr-05-2024_16-23-40.ri', 'CpuProfile_Apr-05-2024_16-23-40.caperf']\n"
     ]
    },
    {
     "ename": "FileNotFoundError",
     "evalue": "[Errno 2] No such file or directory: '/home/enrico/Documents/UNI/CA lab/Computer-Architecture-Project/results/seq/16/report.csv'",
     "output_type": "error",
     "traceback": [
      "\u001b[0;31m---------------------------------------------------------------------------\u001b[0m",
      "\u001b[0;31mFileNotFoundError\u001b[0m                         Traceback (most recent call last)",
      "Cell \u001b[0;32mIn[47], line 19\u001b[0m\n\u001b[1;32m     17\u001b[0m     size \u001b[38;5;241m=\u001b[39m \u001b[38;5;28mint\u001b[39m(dirs)\n\u001b[1;32m     18\u001b[0m     \u001b[38;5;66;03m#print(os.path.join(path, dirs))\u001b[39;00m\n\u001b[0;32m---> 19\u001b[0m     mean_elapsed_time, ci \u001b[38;5;241m=\u001b[39m \u001b[43mread_data_and_calculate_statistics\u001b[49m\u001b[43m(\u001b[49m\u001b[43mos\u001b[49m\u001b[38;5;241;43m.\u001b[39;49m\u001b[43mpath\u001b[49m\u001b[38;5;241;43m.\u001b[39;49m\u001b[43mjoin\u001b[49m\u001b[43m(\u001b[49m\u001b[43mpath\u001b[49m\u001b[43m,\u001b[49m\u001b[43m \u001b[49m\u001b[43mdirs\u001b[49m\u001b[43m)\u001b[49m\u001b[43m)\u001b[49m\n\u001b[1;32m     20\u001b[0m     \u001b[38;5;66;03m#sizes.append(size)\u001b[39;00m\n\u001b[1;32m     21\u001b[0m     \u001b[38;5;66;03m#mean_elapsed_times.append(mean_elapsed_time)\u001b[39;00m\n\u001b[1;32m     22\u001b[0m     \u001b[38;5;66;03m#cis.append(ci)\u001b[39;00m\n\u001b[1;32m     23\u001b[0m \u001b[38;5;28;01mexcept\u001b[39;00m \u001b[38;5;167;01mValueError\u001b[39;00m:\n",
      "Cell \u001b[0;32mIn[45], line 36\u001b[0m, in \u001b[0;36mread_data_and_calculate_statistics\u001b[0;34m(directory)\u001b[0m\n\u001b[1;32m     33\u001b[0m file_path \u001b[38;5;241m=\u001b[39m os\u001b[38;5;241m.\u001b[39mpath\u001b[38;5;241m.\u001b[39mjoin(path, directory, \u001b[38;5;124m\"\u001b[39m\u001b[38;5;124mreport.csv\u001b[39m\u001b[38;5;124m\"\u001b[39m)\n\u001b[1;32m     35\u001b[0m \u001b[38;5;66;03m# Leggi il file CSV\u001b[39;00m\n\u001b[0;32m---> 36\u001b[0m \u001b[38;5;28;01mwith\u001b[39;00m \u001b[38;5;28;43mopen\u001b[39;49m\u001b[43m(\u001b[49m\u001b[43mfile_path\u001b[49m\u001b[43m,\u001b[49m\u001b[43m \u001b[49m\u001b[38;5;124;43m'\u001b[39;49m\u001b[38;5;124;43mr\u001b[39;49m\u001b[38;5;124;43m'\u001b[39;49m\u001b[43m)\u001b[49m \u001b[38;5;28;01mas\u001b[39;00m f:\n\u001b[1;32m     37\u001b[0m     lines \u001b[38;5;241m=\u001b[39m f\u001b[38;5;241m.\u001b[39mreadlines()\n\u001b[1;32m     39\u001b[0m \u001b[38;5;66;03m# Estrai l'Elapsed time\u001b[39;00m\n",
      "File \u001b[0;32m~/.local/lib/python3.11/site-packages/IPython/core/interactiveshell.py:286\u001b[0m, in \u001b[0;36m_modified_open\u001b[0;34m(file, *args, **kwargs)\u001b[0m\n\u001b[1;32m    279\u001b[0m \u001b[38;5;28;01mif\u001b[39;00m file \u001b[38;5;129;01min\u001b[39;00m {\u001b[38;5;241m0\u001b[39m, \u001b[38;5;241m1\u001b[39m, \u001b[38;5;241m2\u001b[39m}:\n\u001b[1;32m    280\u001b[0m     \u001b[38;5;28;01mraise\u001b[39;00m \u001b[38;5;167;01mValueError\u001b[39;00m(\n\u001b[1;32m    281\u001b[0m         \u001b[38;5;124mf\u001b[39m\u001b[38;5;124m\"\u001b[39m\u001b[38;5;124mIPython won\u001b[39m\u001b[38;5;124m'\u001b[39m\u001b[38;5;124mt let you open fd=\u001b[39m\u001b[38;5;132;01m{\u001b[39;00mfile\u001b[38;5;132;01m}\u001b[39;00m\u001b[38;5;124m by default \u001b[39m\u001b[38;5;124m\"\u001b[39m\n\u001b[1;32m    282\u001b[0m         \u001b[38;5;124m\"\u001b[39m\u001b[38;5;124mas it is likely to crash IPython. If you know what you are doing, \u001b[39m\u001b[38;5;124m\"\u001b[39m\n\u001b[1;32m    283\u001b[0m         \u001b[38;5;124m\"\u001b[39m\u001b[38;5;124myou can use builtins\u001b[39m\u001b[38;5;124m'\u001b[39m\u001b[38;5;124m open.\u001b[39m\u001b[38;5;124m\"\u001b[39m\n\u001b[1;32m    284\u001b[0m     )\n\u001b[0;32m--> 286\u001b[0m \u001b[38;5;28;01mreturn\u001b[39;00m \u001b[43mio_open\u001b[49m\u001b[43m(\u001b[49m\u001b[43mfile\u001b[49m\u001b[43m,\u001b[49m\u001b[43m \u001b[49m\u001b[38;5;241;43m*\u001b[39;49m\u001b[43margs\u001b[49m\u001b[43m,\u001b[49m\u001b[43m \u001b[49m\u001b[38;5;241;43m*\u001b[39;49m\u001b[38;5;241;43m*\u001b[39;49m\u001b[43mkwargs\u001b[49m\u001b[43m)\u001b[49m\n",
      "\u001b[0;31mFileNotFoundError\u001b[0m: [Errno 2] No such file or directory: '/home/enrico/Documents/UNI/CA lab/Computer-Architecture-Project/results/seq/16/report.csv'"
     ]
    }
   ],
   "source": [
    "# Utilizzo della funzione per calcolare statistiche e generare il grafico\n",
    "# Imposta i valori necessari per il percorso, le ripetizioni e il numero di configurazioni\n",
    "path = os.getcwd()\n",
    "\n",
    "#print(path)\n",
    "path = os.path.join(path, \"results\", \"seq\")\n",
    "#print(path)\n",
    "\n",
    "# Leggi i dati e calcola le statistiche\n",
    "mean_elapsed_times = []\n",
    "cis = []\n",
    "sizes = []\n",
    "\n",
    "for dirs in os.listdir(path):\n",
    "    #print(\"directory: \", dirs)\n",
    "    try:\n",
    "        size = int(dirs)\n",
    "        #print(os.path.join(path, dirs))\n",
    "        mean_elapsed_time, ci = read_data_and_calculate_statistics(os.path.join(path, dirs))\n",
    "        #sizes.append(size)\n",
    "        #mean_elapsed_times.append(mean_elapsed_time)\n",
    "        #cis.append(ci)\n",
    "    except ValueError:\n",
    "        continue\n",
    "\n",
    "# Genera il grafico utilizzando la funzione per l'intervallo di confidenza\n",
    "plot_with_confidence_interval(sizes, mean_elapsed_times, 'blue', 'o', 'Elapsed Time', 'Elapsed Time with Confidence Interval', 'grafico.png')\n"
   ]
  },
  {
   "cell_type": "code",
   "execution_count": null,
   "metadata": {},
   "outputs": [],
   "source": []
  },
  {
   "cell_type": "code",
   "execution_count": null,
   "metadata": {},
   "outputs": [],
   "source": [
    "\n"
   ]
  }
 ],
 "metadata": {
  "kernelspec": {
   "display_name": "base",
   "language": "python",
   "name": "python3"
  },
  "language_info": {
   "codemirror_mode": {
    "name": "ipython",
    "version": 3
   },
   "file_extension": ".py",
   "mimetype": "text/x-python",
   "name": "python",
   "nbconvert_exporter": "python",
   "pygments_lexer": "ipython3",
   "version": "3.11.8"
  }
 },
 "nbformat": 4,
 "nbformat_minor": 2
}
